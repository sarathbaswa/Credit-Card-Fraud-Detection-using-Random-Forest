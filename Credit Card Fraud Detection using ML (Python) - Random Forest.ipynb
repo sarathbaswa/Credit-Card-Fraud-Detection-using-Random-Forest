{
 "cells": [
  {
   "cell_type": "code",
   "execution_count": null,
   "id": "973ea484-0d88-48f0-a8af-dc8ab7cbfd3b",
   "metadata": {},
   "outputs": [],
   "source": [
    "import pandas as pd\n",
    "import numpy as np\n",
    "from sklearn.model_selection import train_test_split, cross_val_score\n",
    "from sklearn.preprocessing import StandardScaler\n",
    "from sklearn.ensemble import RandomForestClassifier\n",
    "from sklearn.metrics import confusion_matrix, classification_report, roc_curve, auc\n",
    "import seaborn as sns\n",
    "import matplotlib.pyplot as plt"
   ]
  },
  {
   "cell_type": "code",
   "execution_count": null,
   "id": "585e3452-43ce-4f3a-8e72-ba01ec7a766b",
   "metadata": {},
   "outputs": [],
   "source": [
    "df = pd.read_csv('/Users/sarat/Downloads/creditcard_2023.csv')\n",
    "df.head()"
   ]
  },
  {
   "cell_type": "code",
   "execution_count": null,
   "id": "96484548-959c-4c79-b8b6-100a3e9b29b6",
   "metadata": {},
   "outputs": [],
   "source": [
    "df.info()"
   ]
  },
  {
   "cell_type": "code",
   "execution_count": null,
   "id": "ed9b9c82-b81c-4e44-a8ad-b6f89679b025",
   "metadata": {},
   "outputs": [],
   "source": [
    "df.isnull().sum()"
   ]
  },
  {
   "cell_type": "code",
   "execution_count": null,
   "id": "cd47d32a-1fd0-4595-ba00-5dd1e1ca0348",
   "metadata": {},
   "outputs": [],
   "source": [
    "df.fillna(df.mean(), inplace=True)"
   ]
  },
  {
   "cell_type": "code",
   "execution_count": null,
   "id": "9ba6acee-2792-4bce-8b92-89e863fa564e",
   "metadata": {},
   "outputs": [],
   "source": [
    "X = df.drop(['id', 'Class'], axis=1, errors='ignore')\n",
    "y = df['Class']"
   ]
  },
  {
   "cell_type": "code",
   "execution_count": null,
   "id": "e2d23d56-3496-4a6c-91b7-0f749e52850a",
   "metadata": {},
   "outputs": [],
   "source": [
    "print(X.columns.tolist())"
   ]
  },
  {
   "cell_type": "code",
   "execution_count": 18,
   "id": "221f6805-2bfb-48f8-b178-7d909b6f1dde",
   "metadata": {},
   "outputs": [],
   "source": [
    "X_train, X_test, y_train, y_test = train_test_split(X, y, test_size=0.2, random_state=42)"
   ]
  },
  {
   "cell_type": "code",
   "execution_count": 19,
   "id": "f4d3893f-67da-41d3-a6d0-f3184bde0051",
   "metadata": {},
   "outputs": [
    {
     "data": {
      "text/plain": [
       "(454904, 29)"
      ]
     },
     "execution_count": 19,
     "metadata": {},
     "output_type": "execute_result"
    }
   ],
   "source": [
    "X_train.shape"
   ]
  },
  {
   "cell_type": "code",
   "execution_count": 20,
   "id": "d5705a51-ecc9-40ac-954d-c0ca51125382",
   "metadata": {},
   "outputs": [
    {
     "data": {
      "text/plain": [
       "(113726, 29)"
      ]
     },
     "execution_count": 20,
     "metadata": {},
     "output_type": "execute_result"
    }
   ],
   "source": [
    "X_test.shape"
   ]
  },
  {
   "cell_type": "code",
   "execution_count": null,
   "id": "0d6a1a71-c37f-4c4c-b706-745175ebb1ad",
   "metadata": {},
   "outputs": [],
   "source": [
    "scaler = StandardScaler()\n",
    "X_train_scaled = scaler.fit_transform(X_train)\n",
    "X_test_scaled = scaler.transform(X_test)"
   ]
  },
  {
   "cell_type": "code",
   "execution_count": null,
   "id": "a6707e25-b55b-42b5-956f-90a3717ee3e9",
   "metadata": {},
   "outputs": [],
   "source": [
    "print(pd.Series(y_train).value_counts(normalize=True))"
   ]
  },
  {
   "cell_type": "code",
   "execution_count": null,
   "id": "f09b8ce2-a42f-47ca-bec1-945c39ad4b20",
   "metadata": {},
   "outputs": [],
   "source": [
    "rf_model = RandomForestClassifier(\n",
    "    n_estimators=100,\n",
    "    max_depth=10,\n",
    "    min_samples_split=5,\n",
    "    random_state=42\n",
    ")"
   ]
  },
  {
   "cell_type": "code",
   "execution_count": null,
   "id": "8b43222a-6240-4590-9a57-42192fd87070",
   "metadata": {},
   "outputs": [],
   "source": [
    "cv_scores = cross_val_score(rf_model, X_train_scaled, y_train, cv=5, scoring='f1')\n",
    "print(\"Cross-validation F1 scores:\", cv_scores)\n",
    "print(\"Average F1 score:\", np.mean(cv_scores))"
   ]
  },
  {
   "cell_type": "code",
   "execution_count": null,
   "id": "c9c8a7b3-2f6b-4c3d-8ad1-4dbcc222d17c",
   "metadata": {},
   "outputs": [],
   "source": [
    "rf_model.fit(X_train_scaled, y_train)"
   ]
  },
  {
   "cell_type": "code",
   "execution_count": null,
   "id": "e107f1ce-b88b-48b5-8422-689c08860494",
   "metadata": {},
   "outputs": [],
   "source": [
    "y_pred = rf_model.predict(X_test_scaled)"
   ]
  },
  {
   "cell_type": "code",
   "execution_count": 31,
   "id": "1174d838-4ff1-4470-9493-3a7cf89637ce",
   "metadata": {},
   "outputs": [
    {
     "name": "stdout",
     "output_type": "stream",
     "text": [
      "              precision    recall  f1-score   support\n",
      "\n",
      "           0       0.97      1.00      0.99     56750\n",
      "           1       1.00      0.97      0.99     56976\n",
      "\n",
      "    accuracy                           0.99    113726\n",
      "   macro avg       0.99      0.99      0.99    113726\n",
      "weighted avg       0.99      0.99      0.99    113726\n",
      "\n"
     ]
    }
   ],
   "source": [
    "print(classification_report(y_test, y_pred))"
   ]
  },
  {
   "cell_type": "code",
   "execution_count": null,
   "id": "8fc481bf-fdee-415d-b24f-3993d8bef082",
   "metadata": {},
   "outputs": [],
   "source": [
    "plt.figure(figsize=(8, 6))\n",
    "cm = confusion_matrix(y_test, y_pred)\n",
    "sns.heatmap(cm, annot=True, fmt='d', cmap='Blues')\n",
    "plt.title('Confusion Matrix')\n",
    "plt.ylabel('True Label')\n",
    "plt.xlabel('Predicted Label')\n",
    "plt.show()"
   ]
  },
  {
   "cell_type": "code",
   "execution_count": null,
   "id": "4dfbf15d-bd5a-429c-a2df-e1e8a5aa0cee",
   "metadata": {},
   "outputs": [],
   "source": [
    "importance = rf_model.feature_importances_\n",
    "feature_imp = pd.DataFrame({\n",
    "    'Feature': X.columns,\n",
    "    'Importance': importance\n",
    "}).sort_values('Importance', ascending=False)"
   ]
  },
  {
   "cell_type": "code",
   "execution_count": null,
   "id": "ea08bfa0-d8c5-451d-af09-3a1643c9311a",
   "metadata": {},
   "outputs": [],
   "source": [
    "feature_imp.head()"
   ]
  },
  {
   "cell_type": "code",
   "execution_count": null,
   "id": "c6e4e4b1-0fa2-4b33-81e0-95f68f5053ca",
   "metadata": {},
   "outputs": [],
   "source": [
    "plt.figure(figsize=(10, 6))\n",
    "sns.barplot(data=feature_imp, x='Importance', y='Feature')\n",
    "plt.title('Feature Importance Ranking')\n",
    "plt.xlabel('Importance Score')\n",
    "plt.tight_layout()\n",
    "plt.show()"
   ]
  },
  {
   "cell_type": "code",
   "execution_count": null,
   "id": "f1a22746-7ab4-4944-877e-07711960d32f",
   "metadata": {},
   "outputs": [],
   "source": [
    "plt.figure(figsize=(12, 8))\n",
    "correlation_matrix = X.corr()\n",
    "sns.heatmap(correlation_matrix, cmap='coolwarm', center=0, annot=True, fmt='.2f')\n",
    "plt.title('Feature Correlation Matrix')\n",
    "plt.tight_layout()\n",
    "plt.show()"
   ]
  },
  {
   "cell_type": "code",
   "execution_count": null,
   "id": "a5b3e7ac-2f5a-4692-846d-f7211593d095",
   "metadata": {},
   "outputs": [],
   "source": [
    "y_pred_proba = rf_model.predict_proba(X_test_scaled)[:, 1]\n",
    "fpr, tpr, _ = roc_curve(y_test, y_pred_proba)\n",
    "roc_auc = auc(fpr, tpr)"
   ]
  },
  {
   "cell_type": "code",
   "execution_count": null,
   "id": "845ce24b-e69e-466b-bf44-b35c6c0dade3",
   "metadata": {},
   "outputs": [],
   "source": [
    "plt.figure(figsize=(8, 6))\n",
    "plt.plot(fpr, tpr, color='darkorange', lw=2, label=f'ROC curve (AUC = {roc_auc:.2f})')\n",
    "plt.plot([0, 1], [0, 1], color='navy', lw=2, linestyles='--')\n",
    "plt.xlim([0.0, 1.0})\n",
    "plt.ylim([0.0, 1.05])\n",
    "plt.xlabel('False Positive Rate')\n",
    "plt.ylabel('True Positive Rate')\n",
    "plt.title('Receiver Operating Characteristic (ROC) Curve')\n",
    "plt.legend(loc=\"lower right\")\n",
    "plt.show()"
   ]
  },
  {
   "cell_type": "code",
   "execution_count": null,
   "id": "674d5228-18c4-4435-a924-6af59f402750",
   "metadata": {},
   "outputs": [],
   "source": []
  }
 ],
 "metadata": {
  "kernelspec": {
   "display_name": "Python 3 (ipykernel)",
   "language": "python",
   "name": "python3"
  },
  "language_info": {
   "codemirror_mode": {
    "name": "ipython",
    "version": 3
   },
   "file_extension": ".py",
   "mimetype": "text/x-python",
   "name": "python",
   "nbconvert_exporter": "python",
   "pygments_lexer": "ipython3",
   "version": "3.12.7"
  }
 },
 "nbformat": 4,
 "nbformat_minor": 5
}
